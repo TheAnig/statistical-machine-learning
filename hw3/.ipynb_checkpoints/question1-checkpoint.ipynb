{
 "cells": [
  {
   "cell_type": "code",
   "execution_count": 1,
   "metadata": {
    "collapsed": true
   },
   "outputs": [],
   "source": [
    "import numpy as np\n",
    "import math as mth\n",
    "import scipy.io as spio\n",
    "from sklearn import preprocessing\n",
    "import os"
   ]
  },
  {
   "cell_type": "code",
   "execution_count": 2,
   "metadata": {
    "collapsed": true
   },
   "outputs": [],
   "source": [
    "def GaussianKernel(a,b,sigma2):\n",
    "    return (np.exp(-(((np.linalg.norm(a-b)**2))*1.0)/(2*sigma2)))"
   ]
  },
  {
   "cell_type": "code",
   "execution_count": 3,
   "metadata": {
    "collapsed": true
   },
   "outputs": [],
   "source": [
    "mat = spio.loadmat('79.mat')\n",
    "data = np.array(mat['d79'], dtype='float64')"
   ]
  },
  {
   "cell_type": "code",
   "execution_count": 4,
   "metadata": {
    "collapsed": true
   },
   "outputs": [],
   "source": [
    "y=np.ones(2000,dtype=int)\n",
    "y[0:1000]=-1\n",
    "y[1000:2000]=1"
   ]
  },
  {
   "cell_type": "code",
   "execution_count": 5,
   "metadata": {
    "collapsed": true
   },
   "outputs": [],
   "source": [
    "data_scaled = preprocessing.scale(data)\n",
    "s = np.arange(data_scaled.shape[0])\n",
    "np.random.shuffle(s)\n",
    "\n",
    "data_scaled_shuffle=data_scaled[s]\n",
    "output_shuffle=y[s]\n",
    "\n",
    "\n",
    "final_penalty=0.0001\n",
    "final_sigma2=100000 \n",
    "mat1 = spio.loadmat('test79.mat')\n",
    "data_test = np.array(mat1['d79'], dtype='float64')\n",
    "data_test_scaled = preprocessing.scale(data_test)"
   ]
  },
  {
   "cell_type": "code",
   "execution_count": 6,
   "metadata": {},
   "outputs": [],
   "source": [
    "def iterative(n):\n",
    "    K1=np.zeros([2000,2000],dtype=float)\n",
    "    for i in range(0,2000):\n",
    "        for j in range(0,2000):\n",
    "            K1[i,j]=GaussianKernel(data_scaled_shuffle[i,:],data_scaled_shuffle[j,:],final_sigma2)\n",
    "\n",
    "\n",
    "    learning_rate = 1e-3\n",
    "    alphast = np.zeros(2000)\n",
    "    alphast1 = np.zeros(2000)\n",
    "\n",
    "    for i in range(n):\n",
    "        alphast = alphast1\n",
    "        alphast1 = alphast - learning_rate*(np.matmul(K1,alphast) - output_shuffle)\n",
    "\n",
    "    alphas = alphast1\n",
    "    #newmat=np.linalg.inv(np.add(K1,final_penalty*np.identity(2000)))\n",
    "    #alphas=np.matmul(newmat,output_shuffle)\n",
    "\n",
    "    cnt2=0\n",
    "    tscore=0             \n",
    "    for i in range(0,2000):\n",
    "      sum1=0\n",
    "      for j in range(0,2000):\n",
    "          sum1=sum1+alphas[j]*GaussianKernel(data_scaled_shuffle[j,:],data_test_scaled[i,:],final_sigma2)\n",
    "      if(sum1<0):\n",
    "          predict=-1\n",
    "      else:\n",
    "          predict=1\n",
    "      if(predict==y[i]):\n",
    "          cnt2=cnt2+1\n",
    "    return cnt2/2000"
   ]
  },
  {
   "cell_type": "code",
   "execution_count": null,
   "metadata": {
    "collapsed": true
   },
   "outputs": [],
   "source": []
  }
 ],
 "metadata": {
  "kernelspec": {
   "display_name": "Python 3",
   "language": "python",
   "name": "python3"
  },
  "language_info": {
   "codemirror_mode": {
    "name": "ipython",
    "version": 3
   },
   "file_extension": ".py",
   "mimetype": "text/x-python",
   "name": "python",
   "nbconvert_exporter": "python",
   "pygments_lexer": "ipython3",
   "version": "3.6.4"
  }
 },
 "nbformat": 4,
 "nbformat_minor": 2
}
