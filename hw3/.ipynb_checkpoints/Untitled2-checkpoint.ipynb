{
 "cells": [
  {
   "cell_type": "code",
   "execution_count": 36,
   "metadata": {
    "collapsed": true
   },
   "outputs": [],
   "source": [
    "import scipy.io as sio\n",
    "import numpy as np\n",
    "from sklearn.cluster import KMeans\n"
   ]
  },
  {
   "cell_type": "code",
   "execution_count": 37,
   "metadata": {},
   "outputs": [
    {
     "data": {
      "text/plain": [
       "array([[0, 0, 0, ..., 0, 0, 0],\n",
       "       [0, 0, 0, ..., 0, 0, 0],\n",
       "       [0, 0, 0, ..., 0, 0, 0],\n",
       "       ..., \n",
       "       [0, 0, 0, ..., 0, 0, 0],\n",
       "       [0, 0, 0, ..., 0, 0, 0],\n",
       "       [0, 0, 0, ..., 0, 0, 0]], dtype=uint8)"
      ]
     },
     "execution_count": 37,
     "metadata": {},
     "output_type": "execute_result"
    }
   ],
   "source": [
    "mat=sio.loadmat('79.mat')\n",
    "mat=mat['d79']\n",
    "mat.reshape(2000,28,28)\n",
    "mat"
   ]
  },
  {
   "cell_type": "code",
   "execution_count": 45,
   "metadata": {},
   "outputs": [
    {
     "data": {
      "text/plain": [
       "array([ 7.,  7.,  7., ...,  9.,  9.,  9.])"
      ]
     },
     "execution_count": 45,
     "metadata": {},
     "output_type": "execute_result"
    }
   ],
   "source": [
    "y =np.zeros(2000)\n",
    " \n",
    "for i in range (0,2000):\n",
    "    if i<1000:\n",
    "        y[i]=7\n",
    "    else:\n",
    "        y[i]=9\n",
    "y"
   ]
  },
  {
   "cell_type": "code",
   "execution_count": 46,
   "metadata": {
    "collapsed": true
   },
   "outputs": [],
   "source": [
    "kmeans = KMeans(n_clusters=2, random_state=0).fit(mat,y)"
   ]
  },
  {
   "cell_type": "code",
   "execution_count": 62,
   "metadata": {
    "scrolled": true
   },
   "outputs": [
    {
     "data": {
      "text/plain": [
       "array([[0, 0, 0, ..., 0, 0, 0],\n",
       "       [0, 0, 0, ..., 0, 0, 0],\n",
       "       [0, 0, 0, ..., 0, 0, 0],\n",
       "       ..., \n",
       "       [0, 0, 0, ..., 0, 0, 0],\n",
       "       [0, 0, 0, ..., 0, 0, 0],\n",
       "       [0, 0, 0, ..., 0, 0, 0]], dtype=uint8)"
      ]
     },
     "execution_count": 62,
     "metadata": {},
     "output_type": "execute_result"
    }
   ],
   "source": [
    "t=sio.loadmat('test79.mat')\n",
    "t=t['d79']\n",
    "t.reshape(2000,28,28)\n",
    "t"
   ]
  },
  {
   "cell_type": "code",
   "execution_count": 61,
   "metadata": {},
   "outputs": [
    {
     "data": {
      "text/plain": [
       "59.45"
      ]
     },
     "execution_count": 61,
     "metadata": {},
     "output_type": "execute_result"
    }
   ],
   "source": [
    "z=0\n",
    "for i in range(0,2000):\n",
    "    if i<1000:\n",
    "        if((kmeans.predict(t[i].reshape(1,-1).astype(float)))[0] == 0):\n",
    "            z=z+1\n",
    "    else:\n",
    "        if((kmeans.predict(t[i].reshape(1,-1).astype(float)))[0] == 1):\n",
    "            z=z+1\n",
    "z/2000 *100"
   ]
  },
  {
   "cell_type": "code",
   "execution_count": 63,
   "metadata": {
    "collapsed": true
   },
   "outputs": [],
   "source": [
    "kmeans = KMeans(n_clusters=5, random_state=0).fit(mat)"
   ]
  },
  {
   "cell_type": "code",
   "execution_count": 74,
   "metadata": {},
   "outputs": [],
   "source": [
    "labs=kmeans.labels_"
   ]
  },
  {
   "cell_type": "code",
   "execution_count": 78,
   "metadata": {},
   "outputs": [],
   "source": [
    "arr1 = np.zeros((5,2))\n",
    "arr2 = np.zeros(5)\n",
    "for i in range (0,2000):\n",
    "    if(i<1000):\n",
    "        arr1[labs[i]][0]=arr1[labs[i]][0]+1\n",
    "    else:\n",
    "        arr1[labs[i]][1]=arr1[labs[i]][1]+1\n",
    "for i in range (0,5):\n",
    "    if(arr1[i][0]>arr1[i][1]):\n",
    "        arr2[i]=7\n",
    "    else:\n",
    "        arr2[i]=9\n",
    "\n"
   ]
  },
  {
   "cell_type": "code",
   "execution_count": 85,
   "metadata": {},
   "outputs": [
    {
     "data": {
      "text/plain": [
       "array([ 7.,  9.,  9.,  7.,  7.])"
      ]
     },
     "execution_count": 85,
     "metadata": {},
     "output_type": "execute_result"
    }
   ],
   "source": [
    "arr2"
   ]
  },
  {
   "cell_type": "code",
   "execution_count": 86,
   "metadata": {},
   "outputs": [
    {
     "data": {
      "text/plain": [
       "array([[ 266.,    7.],\n",
       "       [  87.,  286.],\n",
       "       [  35.,  278.],\n",
       "       [ 248.,  244.],\n",
       "       [ 364.,  185.]])"
      ]
     },
     "execution_count": 86,
     "metadata": {},
     "output_type": "execute_result"
    }
   ],
   "source": [
    "arr1"
   ]
  },
  {
   "cell_type": "code",
   "execution_count": 79,
   "metadata": {
    "collapsed": true
   },
   "outputs": [],
   "source": [
    "predictions = kmeans.predict(t.reshape(2000,-1).astype(float))"
   ]
  },
  {
   "cell_type": "code",
   "execution_count": 83,
   "metadata": {},
   "outputs": [
    {
     "data": {
      "text/plain": [
       "72.8"
      ]
     },
     "execution_count": 83,
     "metadata": {},
     "output_type": "execute_result"
    }
   ],
   "source": [
    "z=0\n",
    "for i in range (0,2000):\n",
    "    if(i<1000):\n",
    "        if(arr2[predictions[i]]==7):\n",
    "            z=z+1\n",
    "    else:\n",
    "        if(arr2[predictions[i]]==9):\n",
    "            z=z+1\n",
    "z/2000 * 100\n",
    "    "
   ]
  },
  {
   "cell_type": "code",
   "execution_count": 88,
   "metadata": {
    "collapsed": true
   },
   "outputs": [],
   "source": [
    "def clusters(n):\n",
    "    kmeans = KMeans(n_clusters=n, random_state=0).fit(mat)\n",
    "    labs=kmeans.labels_\n",
    "    arr1 = np.zeros((n,2))\n",
    "    arr2 = np.zeros(n)\n",
    "    for i in range (0,2000):\n",
    "        if(i<1000):\n",
    "            arr1[labs[i]][0]=arr1[labs[i]][0]+1\n",
    "        else:\n",
    "            arr1[labs[i]][1]=arr1[labs[i]][1]+1\n",
    "    for i in range (0,n):\n",
    "        if(arr1[i][0]>arr1[i][1]):\n",
    "            arr2[i]=7\n",
    "        else:\n",
    "            arr2[i]=9\n",
    "    predictions = kmeans.predict(t.reshape(2000,-1).astype(float))\n",
    "    z=0\n",
    "    for i in range (0,2000):\n",
    "        if(i<1000):\n",
    "            if(arr2[predictions[i]]==7):\n",
    "                z=z+1\n",
    "        else:\n",
    "            if(arr2[predictions[i]]==9):\n",
    "                z=z+1\n",
    "    print (z/2000 * 100)"
   ]
  },
  {
   "cell_type": "code",
   "execution_count": 89,
   "metadata": {},
   "outputs": [
    {
     "name": "stdout",
     "output_type": "stream",
     "text": [
      "80.9\n"
     ]
    }
   ],
   "source": [
    "clusters(10)"
   ]
  },
  {
   "cell_type": "code",
   "execution_count": 90,
   "metadata": {},
   "outputs": [
    {
     "name": "stdout",
     "output_type": "stream",
     "text": [
      "92.65\n"
     ]
    }
   ],
   "source": [
    "clusters(50)"
   ]
  },
  {
   "cell_type": "code",
   "execution_count": 94,
   "metadata": {},
   "outputs": [
    {
     "name": "stdout",
     "output_type": "stream",
     "text": [
      "59.45\n"
     ]
    }
   ],
   "source": [
    "clusters(2)"
   ]
  },
  {
   "cell_type": "code",
   "execution_count": 95,
   "metadata": {},
   "outputs": [
    {
     "name": "stdout",
     "output_type": "stream",
     "text": [
      "72.8\n"
     ]
    }
   ],
   "source": [
    "clusters(5)"
   ]
  }
 ],
 "metadata": {
  "kernelspec": {
   "display_name": "Python 3",
   "language": "python",
   "name": "python3"
  },
  "language_info": {
   "codemirror_mode": {
    "name": "ipython",
    "version": 3
   },
   "file_extension": ".py",
   "mimetype": "text/x-python",
   "name": "python",
   "nbconvert_exporter": "python",
   "pygments_lexer": "ipython3",
   "version": "3.6.4"
  }
 },
 "nbformat": 4,
 "nbformat_minor": 1
}
