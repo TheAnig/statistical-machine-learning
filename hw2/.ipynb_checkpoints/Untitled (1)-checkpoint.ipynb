{
 "cells": [
  {
   "cell_type": "code",
   "execution_count": 69,
   "metadata": {},
   "outputs": [],
   "source": [
    "import sklearn.svm as svm\n",
    "import scipy.io as sio\n",
    "import numpy as np\n",
    "from numpy.linalg import inv, solve, matrix_rank\n",
    "import numpy as np\n",
    "import sys, os\n",
    "from random import shuffle, randint\n",
    "from scipy.spatial.distance import pdist, squareform\n",
    "import scipy as scip\n"
   ]
  },
  {
   "cell_type": "code",
   "execution_count": 2,
   "metadata": {},
   "outputs": [
    {
     "data": {
      "text/plain": [
       "{'__globals__': [],\n",
       " '__header__': b'MATLAB 5.0 MAT-file, Platform: SOL2, Created on: Thu Oct 13 23:12:10 2005',\n",
       " '__version__': '1.0',\n",
       " 'd79': array([[0, 0, 0, ..., 0, 0, 0],\n",
       "        [0, 0, 0, ..., 0, 0, 0],\n",
       "        [0, 0, 0, ..., 0, 0, 0],\n",
       "        ..., \n",
       "        [0, 0, 0, ..., 0, 0, 0],\n",
       "        [0, 0, 0, ..., 0, 0, 0],\n",
       "        [0, 0, 0, ..., 0, 0, 0]], dtype=uint8)}"
      ]
     },
     "execution_count": 2,
     "metadata": {},
     "output_type": "execute_result"
    }
   ],
   "source": [
    "matcontent = sio.loadmat('79.mat')\n",
    "matcontent"
   ]
  },
  {
   "cell_type": "code",
   "execution_count": 3,
   "metadata": {},
   "outputs": [
    {
     "data": {
      "text/plain": [
       "array([[[0, 0, 0, ..., 0, 0, 0],\n",
       "        [0, 0, 0, ..., 0, 0, 0],\n",
       "        [0, 0, 0, ..., 0, 0, 0],\n",
       "        ..., \n",
       "        [0, 0, 0, ..., 0, 0, 0],\n",
       "        [0, 0, 0, ..., 0, 0, 0],\n",
       "        [0, 0, 0, ..., 0, 0, 0]],\n",
       "\n",
       "       [[0, 0, 0, ..., 0, 0, 0],\n",
       "        [0, 0, 0, ..., 0, 0, 0],\n",
       "        [0, 0, 0, ..., 0, 0, 0],\n",
       "        ..., \n",
       "        [0, 0, 0, ..., 0, 0, 0],\n",
       "        [0, 0, 0, ..., 0, 0, 0],\n",
       "        [0, 0, 0, ..., 0, 0, 0]],\n",
       "\n",
       "       [[0, 0, 0, ..., 0, 0, 0],\n",
       "        [0, 0, 0, ..., 0, 0, 0],\n",
       "        [0, 0, 0, ..., 0, 0, 0],\n",
       "        ..., \n",
       "        [0, 0, 0, ..., 0, 0, 0],\n",
       "        [0, 0, 0, ..., 0, 0, 0],\n",
       "        [0, 0, 0, ..., 0, 0, 0]],\n",
       "\n",
       "       ..., \n",
       "       [[0, 0, 0, ..., 0, 0, 0],\n",
       "        [0, 0, 0, ..., 0, 0, 0],\n",
       "        [0, 0, 0, ..., 0, 0, 0],\n",
       "        ..., \n",
       "        [0, 0, 0, ..., 0, 0, 0],\n",
       "        [0, 0, 0, ..., 0, 0, 0],\n",
       "        [0, 0, 0, ..., 0, 0, 0]],\n",
       "\n",
       "       [[0, 0, 0, ..., 0, 0, 0],\n",
       "        [0, 0, 0, ..., 0, 0, 0],\n",
       "        [0, 0, 0, ..., 0, 0, 0],\n",
       "        ..., \n",
       "        [0, 0, 0, ..., 0, 0, 0],\n",
       "        [0, 0, 0, ..., 0, 0, 0],\n",
       "        [0, 0, 0, ..., 0, 0, 0]],\n",
       "\n",
       "       [[0, 0, 0, ..., 0, 0, 0],\n",
       "        [0, 0, 0, ..., 0, 0, 0],\n",
       "        [0, 0, 0, ..., 0, 0, 0],\n",
       "        ..., \n",
       "        [0, 0, 0, ..., 0, 0, 0],\n",
       "        [0, 0, 0, ..., 0, 0, 0],\n",
       "        [0, 0, 0, ..., 0, 0, 0]]], dtype=uint8)"
      ]
     },
     "execution_count": 3,
     "metadata": {},
     "output_type": "execute_result"
    }
   ],
   "source": [
    "arr = matcontent['d79']\n",
    "arr.reshape(2000,28,28)"
   ]
  },
  {
   "cell_type": "code",
   "execution_count": 4,
   "metadata": {},
   "outputs": [
    {
     "data": {
      "text/plain": [
       "SVC(C=1.0, cache_size=200, class_weight=None, coef0=0.0,\n",
       "  decision_function_shape=None, degree=3, gamma='auto', kernel='rbf',\n",
       "  max_iter=-1, probability=False, random_state=None, shrinking=True,\n",
       "  tol=0.001, verbose=False)"
      ]
     },
     "execution_count": 4,
     "metadata": {},
     "output_type": "execute_result"
    }
   ],
   "source": [
    "y = np.zeros(2000)\n",
    "for i in range (0,2000):\n",
    "    if(i<1000):\n",
    "        y[i] = 7\n",
    "    else:\n",
    "        y[i] = 9\n",
    "clf = svm.SVC()\n",
    "clf.fit(arr,y)\n"
   ]
  },
  {
   "cell_type": "code",
   "execution_count": 5,
   "metadata": {},
   "outputs": [
    {
     "data": {
      "text/plain": [
       "array([[[0, 0, 0, ..., 0, 0, 0],\n",
       "        [0, 0, 0, ..., 0, 0, 0],\n",
       "        [0, 0, 0, ..., 0, 0, 0],\n",
       "        ..., \n",
       "        [0, 0, 0, ..., 0, 0, 0],\n",
       "        [0, 0, 0, ..., 0, 0, 0],\n",
       "        [0, 0, 0, ..., 0, 0, 0]],\n",
       "\n",
       "       [[0, 0, 0, ..., 0, 0, 0],\n",
       "        [0, 0, 0, ..., 0, 0, 0],\n",
       "        [0, 0, 0, ..., 0, 0, 0],\n",
       "        ..., \n",
       "        [0, 0, 0, ..., 0, 0, 0],\n",
       "        [0, 0, 0, ..., 0, 0, 0],\n",
       "        [0, 0, 0, ..., 0, 0, 0]],\n",
       "\n",
       "       [[0, 0, 0, ..., 0, 0, 0],\n",
       "        [0, 0, 0, ..., 0, 0, 0],\n",
       "        [0, 0, 0, ..., 0, 0, 0],\n",
       "        ..., \n",
       "        [0, 0, 0, ..., 0, 0, 0],\n",
       "        [0, 0, 0, ..., 0, 0, 0],\n",
       "        [0, 0, 0, ..., 0, 0, 0]],\n",
       "\n",
       "       ..., \n",
       "       [[0, 0, 0, ..., 0, 0, 0],\n",
       "        [0, 0, 0, ..., 0, 0, 0],\n",
       "        [0, 0, 0, ..., 0, 0, 0],\n",
       "        ..., \n",
       "        [0, 0, 0, ..., 0, 0, 0],\n",
       "        [0, 0, 0, ..., 0, 0, 0],\n",
       "        [0, 0, 0, ..., 0, 0, 0]],\n",
       "\n",
       "       [[0, 0, 0, ..., 0, 0, 0],\n",
       "        [0, 0, 0, ..., 0, 0, 0],\n",
       "        [0, 0, 0, ..., 0, 0, 0],\n",
       "        ..., \n",
       "        [0, 0, 0, ..., 0, 0, 0],\n",
       "        [0, 0, 0, ..., 0, 0, 0],\n",
       "        [0, 0, 0, ..., 0, 0, 0]],\n",
       "\n",
       "       [[0, 0, 0, ..., 0, 0, 0],\n",
       "        [0, 0, 0, ..., 0, 0, 0],\n",
       "        [0, 0, 0, ..., 0, 0, 0],\n",
       "        ..., \n",
       "        [0, 0, 0, ..., 0, 0, 0],\n",
       "        [0, 0, 0, ..., 0, 0, 0],\n",
       "        [0, 0, 0, ..., 0, 0, 0]]], dtype=uint8)"
      ]
     },
     "execution_count": 5,
     "metadata": {},
     "output_type": "execute_result"
    }
   ],
   "source": [
    "test = sio.loadmat('test79.mat')['d79']\n",
    "test.reshape(2000,28,28)\n"
   ]
  },
  {
   "cell_type": "code",
   "execution_count": 6,
   "metadata": {
    "collapsed": true
   },
   "outputs": [],
   "source": [
    "def pred_svm(a):\n",
    "    return clf.predict(a)[0]"
   ]
  },
  {
   "cell_type": "code",
   "execution_count": 7,
   "metadata": {
    "collapsed": true
   },
   "outputs": [],
   "source": [
    "def train(x,y):\n",
    "\t\"\"\"\n",
    "\t\tBuild the linear least weight vector W\n",
    "\t\t:param x: NxD matrix containing N attributes vectors for training\n",
    "\t\t:param y: NxK matrix containing N class vectors for training\n",
    "\t\"\"\"\n",
    "\t# D = Number of attributes\n",
    "\tD = x.shape[1] + 1\n",
    "\t# K = Number of classes\n",
    "\tK = y.shape[0]\n",
    "\t\n",
    "\t# Build the sums of xi*xi' and xi*yi'\n",
    "\tsum1 = np.zeros((D,D)) # init placeholder\n",
    "\tsum2 = np.zeros((D,K))\n",
    "\ti = 0\n",
    "\tfor x_i in x:\t\t\t\t\t\t# loop over all vectors\n",
    "\t\tx_i = np.append(1, x_i) \t\t# augment vector with a 1 \n",
    "\t\ty_i = y[i]\t\t\t\t\t\t\n",
    "\t\tsum1 += np.outer(x_i, x_i)\t\t# find xi*xi'\n",
    "\t\tsum2 += np.outer(x_i, y_i)\t\t# find xi*yi'\n",
    "\t\ti += 1\n",
    "\t\n",
    "\t# Check that condition number is finite\n",
    "\t# and therefore sum1 is nonsingular (invertable)\n",
    "\twhile matrix_rank(sum1) != D:\n",
    "\t\t# Naive choice of sigma.\n",
    "\t\t# Could cause inaccuracies when sum1 has small values\n",
    "\t\t# However, in most cases the matrix WILL be invertable\n",
    "\t\tsum1 = sum1 + 0.001 * np.eye(D) \n",
    "\t\n",
    "\t# Return weight vector\n",
    "\t# Weight vector multiplies sums and inverse of sum1\n",
    "\treturn np.dot(inv(sum1),sum2)"
   ]
  },
  {
   "cell_type": "code",
   "execution_count": 8,
   "metadata": {
    "collapsed": true
   },
   "outputs": [],
   "source": [
    "def predict(W, x):\n",
    "\t\"\"\"\n",
    "\tPredict the class y of a single set of attributes\n",
    "\t:param W:\tDxK Least squares weight matrix\n",
    "\t:param x:\t1xD matrix of attributes for testing\n",
    "\t:return:\tList of 0's and 1's. Index with 1 is the class of x\n",
    "\t\"\"\"\n",
    "\tx = np.append(1, x)\t\t# augment test vector\n",
    "\n",
    "\t# Solve W'*x\n",
    "\tvalues = list(np.dot(W.T,x))\n",
    "\t\n",
    "\t# Find maxima of values\n",
    "\twinners = [i for i, x in enumerate(values) if x == max(values)] # indexes of maxima\n",
    "\t# Flip a coin to decide winner\n",
    "\t# if only one winner, it will be chosen by default\n",
    "\tindex = randint(0,len(winners)-1)\n",
    "\twinner = winners[index]\n",
    "\n",
    "\ty = [0 for x in values] \t# initalize list with all zeros\n",
    "\ty[winner] = 1 \t\t\t\t# set winner\n",
    "\treturn y"
   ]
  },
  {
   "cell_type": "code",
   "execution_count": 9,
   "metadata": {},
   "outputs": [],
   "source": [
    "w = train(arr,y)"
   ]
  },
  {
   "cell_type": "code",
   "execution_count": 10,
   "metadata": {},
   "outputs": [],
   "source": [
    "def pred_linear(a):\n",
    "    res = predict(w,a)\n",
    "    for i in range (0,2000):\n",
    "        if(res[i] == 1 and i<1000):\n",
    "            return 7.0\n",
    "        elif(res[i] == 1 and i>999):\n",
    "            return 9.0\n"
   ]
  },
  {
   "cell_type": "code",
   "execution_count": 25,
   "metadata": {},
   "outputs": [
    {
     "data": {
      "text/plain": [
       "1009"
      ]
     },
     "execution_count": 25,
     "metadata": {},
     "output_type": "execute_result"
    }
   ],
   "source": [
    "z=0\n",
    "t=0\n",
    "for i in range (0,2000):\n",
    "    #if(pred_linear(test[i]) == pred_svm(test[i].reshape(1,-1))):\n",
    "    #    z= z+1\n",
    "    if(pred_linear(arr[i]) == 7.0 and i<1000):\n",
    "        t = t+1\n",
    "    elif(pred_linear(arr[i]) == 9.0 and i>=1000):\n",
    "        t = t+1\n",
    "t"
   ]
  },
  {
   "cell_type": "code",
   "execution_count": 68,
   "metadata": {},
   "outputs": [
    {
     "data": {
      "text/plain": [
       "2052814.0205281405"
      ]
     },
     "execution_count": 68,
     "metadata": {},
     "output_type": "execute_result"
    }
   ],
   "source": [
    "s=1\n",
    "pairwise_dists = squareform(pdist(arr, 'euclidean'))\n",
    "K = scip.exp(-pairwise_dists ** 2 / s ** 2)\n",
    "K\n",
    "\n",
    "one = np.inner(arr,test[1000])\n",
    "I = np.identity(2000)\n",
    "lamda = 0.00000001\n",
    "temp = K - lamda*I\n",
    "temp = inv(temp)\n",
    "temp\n",
    "temp = np.dot(y.T,temp)\n",
    "a = np.dot(temp,one)\n",
    "a"
   ]
  },
  {
   "cell_type": "code",
   "execution_count": null,
   "metadata": {
    "collapsed": true
   },
   "outputs": [],
   "source": []
  }
 ],
 "metadata": {
  "anaconda-cloud": {},
  "kernelspec": {
   "display_name": "Python 3",
   "language": "python",
   "name": "python3"
  },
  "language_info": {
   "codemirror_mode": {
    "name": "ipython",
    "version": 3
   },
   "file_extension": ".py",
   "mimetype": "text/x-python",
   "name": "python",
   "nbconvert_exporter": "python",
   "pygments_lexer": "ipython3",
   "version": "3.6.4"
  }
 },
 "nbformat": 4,
 "nbformat_minor": 1
}
