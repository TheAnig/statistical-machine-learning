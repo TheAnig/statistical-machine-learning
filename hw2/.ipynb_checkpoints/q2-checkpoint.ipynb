{
 "cells": [
  {
   "cell_type": "code",
   "execution_count": 1,
   "metadata": {},
   "outputs": [],
   "source": [
    "import numpy as np\n",
    "import math as mth\n",
    "import scipy.io as spio\n",
    "from sklearn import preprocessing\n",
    "import os"
   ]
  },
  {
   "cell_type": "code",
   "execution_count": 12,
   "metadata": {},
   "outputs": [],
   "source": [
    "def GaussianKernel(a,b,sigma2):\n",
    "    return (np.exp(-(((np.linalg.norm(a-b)**2))*1.0)/(2*sigma2)))"
   ]
  },
  {
   "cell_type": "code",
   "execution_count": 3,
   "metadata": {},
   "outputs": [],
   "source": [
    "mat = spio.loadmat('79.mat')\n",
    "data = mat['d79']"
   ]
  },
  {
   "cell_type": "code",
   "execution_count": 4,
   "metadata": {},
   "outputs": [],
   "source": [
    "y=np.ones(2000,dtype=int)\n",
    "y[0:1000]=-1\n",
    "y[1000:2000]=1"
   ]
  },
  {
   "cell_type": "code",
   "execution_count": 18,
   "metadata": {},
   "outputs": [
    {
     "name": "stderr",
     "output_type": "stream",
     "text": [
      "c:\\users\\theanig\\appdata\\local\\programs\\python\\python36\\lib\\site-packages\\sklearn\\utils\\validation.py:475: DataConversionWarning: Data with input dtype uint8 was converted to float64 by the scale function.\n",
      "  warnings.warn(msg, DataConversionWarning)\n"
     ]
    }
   ],
   "source": [
    "data_scaled = preprocessing.scale(data)\n",
    "s = np.arange(data_scaled.shape[0])\n",
    "np.random.shuffle(s)\n",
    "\n",
    "data_scaled_shuffle=data_scaled[s]\n",
    "output_shuffle=y[s]\n",
    "\n",
    "\n",
    "final_penalty=0.0001\n",
    "final_sigma2=100000 \n",
    "mat1 = spio.loadmat('test79.mat')\n",
    "data_test = mat1['d79']\n",
    "data_test_scaled = preprocessing.scale(data_test)"
   ]
  },
  {
   "cell_type": "code",
   "execution_count": 19,
   "metadata": {},
   "outputs": [
    {
     "name": "stdout",
     "output_type": "stream",
     "text": [
      "Test Score = 0.958\n"
     ]
    }
   ],
   "source": [
    "K1=np.zeros([2000,2000],dtype=float)\n",
    "for i in range(0,2000):\n",
    "    for j in range(0,2000):\n",
    "        K1[i,j]=GaussianKernel(data_scaled_shuffle[i,:],data_scaled_shuffle[j,:],final_sigma2)\n",
    "                           \n",
    "                           \n",
    "newmat=np.linalg.inv(np.add(K1,final_penalty*np.identity(2000)))\n",
    "alphas=np.matmul(newmat,output_shuffle)\n",
    "                    \n",
    "cnt2=0\n",
    "tscore=0             \n",
    "for i in range(0,2000):\n",
    "  sum1=0\n",
    "  for j in range(0,2000):\n",
    "      sum1=sum1+alphas[j]*GaussianKernel(data_scaled_shuffle[j,:],data_test_scaled[i,:],final_sigma2)\n",
    "  if(sum1>=0):\n",
    "      predict=1\n",
    "  else:\n",
    "      predict=-1\n",
    "  if(predict==y[i]):\n",
    "      cnt2=cnt2+1\n",
    "print('Test Score = {}'.format(cnt2/2000))"
   ]
  },
  {
   "cell_type": "code",
   "execution_count": 7,
   "metadata": {},
   "outputs": [
    {
     "name": "stdout",
     "output_type": "stream",
     "text": [
      "1962\n"
     ]
    }
   ],
   "source": [
    "print(cnt2)"
   ]
  }
 ],
 "metadata": {
  "kernelspec": {
   "display_name": "Python 3",
   "language": "python",
   "name": "python3"
  },
  "language_info": {
   "codemirror_mode": {
    "name": "ipython",
    "version": 3
   },
   "file_extension": ".py",
   "mimetype": "text/x-python",
   "name": "python",
   "nbconvert_exporter": "python",
   "pygments_lexer": "ipython3",
   "version": "3.6.4"
  }
 },
 "nbformat": 4,
 "nbformat_minor": 2
}
